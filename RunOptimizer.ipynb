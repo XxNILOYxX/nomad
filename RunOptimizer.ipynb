{
 "cells": [
  {
   "cell_type": "code",
   "execution_count": null,
   "id": "a16ed559-ac67-4889-9bca-89f2508e975d",
   "metadata": {},
   "outputs": [],
   "source": [
    "import logging\n",
    "import matplotlib.pyplot as plt\n",
    "import numpy as np\n",
    "\n",
    "# Import the main class\n",
    "from main import MainOptimizer\n",
    "logger = logging.getLogger()\n",
    "logger.setLevel(logging.INFO)\n",
    "\n",
    "print(\"Setup complete. Ready to initialize the optimizer.\")\n"
   ]
  },
  {
   "cell_type": "code",
   "execution_count": null,
   "id": "08b35bbc-fe8f-4536-a289-034cee77712e",
   "metadata": {},
   "outputs": [],
   "source": [
    "try:\n",
    "    optimizer = MainOptimizer()\n",
    "    \n",
    "    # Start the optimization process\n",
    "    optimizer.run()\n",
    "    \n",
    "except SystemExit as e:\n",
    "    print(f\"Optimizer stopped with a critical configuration error: {e}\")\n",
    "except Exception as e:\n",
    "    print(f\"An unexpected error occurred: {e}\")\n",
    "    # Use the logging traceback for more detail\n",
    "    logging.exception(\"Detailed traceback:\")\n",
    "\n",
    "print(\"\\n--- Optimization Finished ---\")"
   ]
  },
  {
   "cell_type": "code",
   "execution_count": null,
   "id": "8328138a-d842-4e8d-ae93-c63b78f4d640",
   "metadata": {},
   "outputs": [],
   "source": []
  }
 ],
 "metadata": {
  "kernelspec": {
   "display_name": "Python 3 (ipykernel)",
   "language": "python",
   "name": "python3"
  },
  "language_info": {
   "codemirror_mode": {
    "name": "ipython",
    "version": 3
   },
   "file_extension": ".py",
   "mimetype": "text/x-python",
   "name": "python",
   "nbconvert_exporter": "python",
   "pygments_lexer": "ipython3",
   "version": "3.10.17"
  }
 },
 "nbformat": 4,
 "nbformat_minor": 5
}
